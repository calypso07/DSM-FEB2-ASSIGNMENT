{
 "cells": [
  {
   "cell_type": "markdown",
   "id": "5942f153-b9a0-4516-84ed-741f499cbe01",
   "metadata": {},
   "source": [
    "*FEB 2 ASSIGNMENT\n"
   ]
  },
  {
   "cell_type": "markdown",
   "id": "502758f7-ca5e-497e-b933-e8bcd995eda8",
   "metadata": {},
   "source": [
    "1. Tuples are used to store multiple items in a single variable. Tuples are written with round brackets.Since tuples are indexed, they can have items with the same value. A tuple is a collection which is ordered and unchangeable thus tuple is immutable."
   ]
  },
  {
   "cell_type": "code",
   "execution_count": null,
   "id": "56fee8a4-aca6-4e9b-8b59-4d20af2890b3",
   "metadata": {},
   "outputs": [],
   "source": []
  },
  {
   "cell_type": "markdown",
   "id": "d0971eae-bf5a-49ef-9f30-33923d8715c1",
   "metadata": {},
   "source": [
    "2. There are two buit in methods in tuple: index() and count(). Example"
   ]
  },
  {
   "cell_type": "code",
   "execution_count": 11,
   "id": "707afdf9-5892-4e40-82cb-49f648c1d30d",
   "metadata": {},
   "outputs": [
    {
     "name": "stdout",
     "output_type": "stream",
     "text": [
      "4\n",
      "3\n"
     ]
    }
   ],
   "source": [
    "iamtuple = (1,3,8,7,1,3,5,9,3,5,3)\n",
    "x = iamtuple.count(3)\n",
    "print(x)\n",
    "\n",
    "y = iamtuple.index(7)\n",
    "print(y)"
   ]
  },
  {
   "cell_type": "markdown",
   "id": "353bb832-a637-48e6-98e8-3e9ecd01bc70",
   "metadata": {},
   "source": [
    "In Python, tuples are immutables. Meaning, you cannot change items of a tuple once it is assigned. There are only two tuple methods count() and index() that a tuple object can call."
   ]
  },
  {
   "cell_type": "code",
   "execution_count": null,
   "id": "7543df07-3d99-4788-b2c5-9843dd60c9da",
   "metadata": {},
   "outputs": [],
   "source": []
  },
  {
   "cell_type": "markdown",
   "id": "4d5c6f61-a387-4b7b-ac8a-73e1ff6bf04b",
   "metadata": {},
   "source": [
    "3. Set is datatype in python which does not allow duplicates in python.\n"
   ]
  },
  {
   "cell_type": "code",
   "execution_count": 16,
   "id": "25cf4813-372b-4bae-b2fe-8ff40e82050c",
   "metadata": {},
   "outputs": [
    {
     "name": "stdout",
     "output_type": "stream",
     "text": [
      "{1, 2, 3, 4}\n"
     ]
    }
   ],
   "source": [
    "List = [1, 1, 1, 2, 1, 3, 1, 4, 2, 1, 2, 2, 2, 3, 2, 4, 3, 1, 3, 2, 3, 3, 3, 4, 4, 1, 4, 2, 4, 3, 4, 4]\n",
    "iamaset= set(List)\n",
    "print(iamaset)"
   ]
  },
  {
   "cell_type": "code",
   "execution_count": null,
   "id": "39379167-9510-419f-883b-656e9c9b03e2",
   "metadata": {},
   "outputs": [],
   "source": []
  },
  {
   "cell_type": "markdown",
   "id": "d55d991a-8c9e-4278-bb33-2fb16ff2bb82",
   "metadata": {},
   "source": [
    "4. The update() method updates the current set, by adding items from another set (or any other iterable). If an item is present in both sets, only one appearance of this item will be present in the updated set."
   ]
  },
  {
   "cell_type": "code",
   "execution_count": 14,
   "id": "8bd84511-16ce-4a1a-a460-2a8a57d12790",
   "metadata": {},
   "outputs": [
    {
     "name": "stdout",
     "output_type": "stream",
     "text": [
      "{'google', 'banana', 'microsoft', 'apple', 'cherry'}\n"
     ]
    }
   ],
   "source": [
    "x = {\"apple\", \"banana\", \"cherry\"}\n",
    "y = {\"google\", \"microsoft\", \"apple\"}\n",
    "\n",
    "x.update(y)\n",
    "\n",
    "print(x)"
   ]
  },
  {
   "cell_type": "markdown",
   "id": "e3c4047f-d3bd-4378-84dd-7ac8f815f390",
   "metadata": {},
   "source": [
    "The union() method returns a set that contains all items from the original set, and all items from the specified set(s)."
   ]
  },
  {
   "cell_type": "code",
   "execution_count": 15,
   "id": "9e718501-fd7c-4197-9acc-f78073a89d26",
   "metadata": {},
   "outputs": [
    {
     "name": "stdout",
     "output_type": "stream",
     "text": [
      "{'google', 'banana', 'microsoft', 'apple', 'cherry'}\n"
     ]
    }
   ],
   "source": [
    "x = {\"apple\", \"banana\", \"cherry\"}\n",
    "y = {\"google\", \"microsoft\", \"apple\"}\n",
    "\n",
    "z = x.union(y)\n",
    "\n",
    "print(z)"
   ]
  },
  {
   "cell_type": "code",
   "execution_count": null,
   "id": "8bb25b9c-574f-4716-a886-d32dc9619504",
   "metadata": {},
   "outputs": [],
   "source": []
  },
  {
   "cell_type": "markdown",
   "id": "7878074f-4a5a-4325-8677-389d8863c2a5",
   "metadata": {},
   "source": [
    "5. Dictionaries are used to store data values in key:value pairs.\n",
    "\n",
    "A dictionary is a collection which is ordered, changeable and do not allow duplicates of key. Dictionaries are written with curly brackets, and have keys and values."
   ]
  },
  {
   "cell_type": "code",
   "execution_count": 20,
   "id": "cd1424dd-5935-46f1-a460-4534f0433ab1",
   "metadata": {},
   "outputs": [],
   "source": [
    "iamdict= {\n",
    "    'name': 'Shubham',\n",
    "    'course': 'DSM',\n",
    "    'age': 27,\n",
    "}"
   ]
  },
  {
   "cell_type": "code",
   "execution_count": null,
   "id": "19447d06-1f1e-4218-a135-71bb363ab4a6",
   "metadata": {},
   "outputs": [],
   "source": []
  },
  {
   "cell_type": "markdown",
   "id": "12d3db8e-b5ec-4fef-86a2-ee8091641072",
   "metadata": {},
   "source": [
    "6. Yes we can create a nested dictionary.\n",
    "example:"
   ]
  },
  {
   "cell_type": "code",
   "execution_count": 24,
   "id": "a038ecb7-f804-4c86-9853-8ceae414659b",
   "metadata": {},
   "outputs": [],
   "source": [
    "iamdict2= {\n",
    "    'name': 'Shubham',\n",
    "    'course': {1: 'DSM',\n",
    "              2: 'Java',\n",
    "              3: 'Fullstack'\n",
    "              },\n",
    "    'age': 27,\n",
    "}"
   ]
  },
  {
   "cell_type": "code",
   "execution_count": null,
   "id": "3d22382c-8d1f-4c17-aad5-37fb305f2445",
   "metadata": {},
   "outputs": [],
   "source": []
  },
  {
   "cell_type": "markdown",
   "id": "57a14e9c-a9bb-4d83-b012-b27920b49020",
   "metadata": {},
   "source": [
    "7. The setdefault() method returns the value of the item with the specified key.\n",
    "\n",
    "If the key does not exist, it adds key and value to the dictionary and returns the value."
   ]
  },
  {
   "cell_type": "code",
   "execution_count": 31,
   "id": "62d802f5-88f8-41f3-958c-0ab890399165",
   "metadata": {},
   "outputs": [
    {
     "name": "stdout",
     "output_type": "stream",
     "text": [
      "{'language': 'Python', 'course': 'Data Science Masters', 'topics': ['python', 'machine learning', 'deep learning']}\n"
     ]
    }
   ],
   "source": [
    "dict1 = {'language' : 'Python', 'course': 'Data Science Masters'}\n",
    "\n",
    "dict1.setdefault('topics',['python', 'machine learning', 'deep learning'])\n",
    "print(dict1)\n"
   ]
  },
  {
   "cell_type": "code",
   "execution_count": null,
   "id": "e6ab190d-c365-4fc8-9e70-1065e33b435c",
   "metadata": {},
   "outputs": [],
   "source": []
  },
  {
   "cell_type": "markdown",
   "id": "c9967a84-5b5c-4dee-a1ac-a3eab4aabf29",
   "metadata": {},
   "source": [
    "8. The main view objects of dictionary in python are keys, values and items. They provide a non-constant view of the dictionary’s entries. Keys holds all the keys of the dictionary, the values objects holds all the values, whereas the items holds the key-value pairs"
   ]
  },
  {
   "cell_type": "code",
   "execution_count": 39,
   "id": "67dfc640-7b68-4fbd-9e3b-949ed43b46a4",
   "metadata": {},
   "outputs": [],
   "source": [
    "dict3 = {'Sport': 'Cricket' , 'Teams': ['India', 'Australia', 'England', 'South Africa', 'Sri Lanka', 'New Zealand']}"
   ]
  },
  {
   "cell_type": "code",
   "execution_count": 35,
   "id": "6f16832f-4cb8-49d5-96f9-743b05cb246f",
   "metadata": {},
   "outputs": [
    {
     "data": {
      "text/plain": [
       "dict_keys(['Sport', 'Teams'])"
      ]
     },
     "execution_count": 35,
     "metadata": {},
     "output_type": "execute_result"
    }
   ],
   "source": [
    "dict3.keys()"
   ]
  },
  {
   "cell_type": "code",
   "execution_count": 36,
   "id": "8a30e592-2cab-4d6a-8ce3-fa3cb1eb227b",
   "metadata": {},
   "outputs": [
    {
     "data": {
      "text/plain": [
       "dict_values(['Cricket', ['India', 'Australia', 'England', 'South Africa', 'Sri Lanka', 'New Zealand']])"
      ]
     },
     "execution_count": 36,
     "metadata": {},
     "output_type": "execute_result"
    }
   ],
   "source": [
    "dict3.values()"
   ]
  },
  {
   "cell_type": "code",
   "execution_count": 37,
   "id": "b63f1192-328f-406d-8fbf-5591594fc0ea",
   "metadata": {},
   "outputs": [
    {
     "data": {
      "text/plain": [
       "dict_items([('Sport', 'Cricket'), ('Teams', ['India', 'Australia', 'England', 'South Africa', 'Sri Lanka', 'New Zealand'])])"
      ]
     },
     "execution_count": 37,
     "metadata": {},
     "output_type": "execute_result"
    }
   ],
   "source": [
    "dict3.items()"
   ]
  }
 ],
 "metadata": {
  "kernelspec": {
   "display_name": "Python 3 (ipykernel)",
   "language": "python",
   "name": "python3"
  },
  "language_info": {
   "codemirror_mode": {
    "name": "ipython",
    "version": 3
   },
   "file_extension": ".py",
   "mimetype": "text/x-python",
   "name": "python",
   "nbconvert_exporter": "python",
   "pygments_lexer": "ipython3",
   "version": "3.10.8"
  }
 },
 "nbformat": 4,
 "nbformat_minor": 5
}
